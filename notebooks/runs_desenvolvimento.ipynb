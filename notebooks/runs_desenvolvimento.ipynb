{
 "cells": [
  {
   "cell_type": "markdown",
   "id": "05ca2058",
   "metadata": {},
   "source": [
    "## Início do Pipeline de Modelagem e Rastreamento com MLflow\n",
    "\n",
    "Este notebook tem como objetivo iniciar o pipeline de experimentos, carregando os datasets finais da camada `Curated` para criar os conjuntos de treino e teste totalmente alinhados. O fluxo inclui a separação de variáveis preditoras (`X`) e variável alvo (`y`), além da configuração inicial do MLflow Tracking, garantindo que todos os parâmetros, métricas e artefatos do modelo sejam rastreados de forma coerente e versionável.\n"
   ]
  },
  {
   "cell_type": "code",
   "execution_count": 1,
   "id": "8f8f27ef",
   "metadata": {},
   "outputs": [
    {
     "name": "stdout",
     "output_type": "stream",
     "text": [
      "Current Working Directory: /workspace\n",
      "\n",
      "Treino shape: (100000, 6305)\n",
      "Teste shape: (50000, 6305)\n",
      "\n",
      "X_train: (100000, 6304)\n",
      "y_train: (100000,)\n",
      "X_test: (50000, 6304)\n",
      "y_test: (50000,)\n",
      "\n",
      "Tracking URI configurado: http://mlflow:5000\n"
     ]
    }
   ],
   "source": [
    "#  ETAPA: Carga dos Dados Curados e Configuração do MLflow Tracking\n",
    "\n",
    "\"\"\"\n",
    "Executa:\n",
    "1) Validação do diretório de trabalho.\n",
    "2) Carregamento de 'train_curated.csv' e 'test_curated.csv'.\n",
    "3) Separação de X_train, y_train, X_test, y_test.\n",
    "4) Configuração do Tracking URI do MLflow.\n",
    "\"\"\"\n",
    "\n",
    "import os\n",
    "import pandas as pd\n",
    "import mlflow\n",
    "\n",
    "# 1️⃣ Validar CWD\n",
    "print(\"Current Working Directory:\", os.getcwd())\n",
    "\n",
    "# 2️⃣ Paths coerentes\n",
    "TRAIN_PATH = 'data/curated/train_curated.csv'\n",
    "TEST_PATH = 'data/curated/test_curated.csv'\n",
    "\n",
    "# 3️⃣ Carregar datasets\n",
    "train_df = pd.read_csv(TRAIN_PATH)\n",
    "test_df = pd.read_csv(TEST_PATH)\n",
    "\n",
    "print(\"\\nTreino shape:\", train_df.shape)\n",
    "print(\"Teste shape:\", test_df.shape)\n",
    "\n",
    "# 4️⃣ Separar X e y\n",
    "TARGET = 'Credit_Score_Standard'  # Ajuste para seu target real\n",
    "\n",
    "X_train = train_df.drop(columns=[TARGET])\n",
    "y_train = train_df[TARGET]\n",
    "\n",
    "X_test = test_df.drop(columns=[TARGET])\n",
    "y_test = test_df[TARGET]\n",
    "\n",
    "print(\"\\nX_train:\", X_train.shape)\n",
    "print(\"y_train:\", y_train.shape)\n",
    "print(\"X_test:\", X_test.shape)\n",
    "print(\"y_test:\", y_test.shape)\n",
    "\n",
    "# 5️⃣ Configurar MLflow Tracking URI\n",
    "mlflow.set_tracking_uri(\"http://mlflow:5000\")  # Ajuste se necessário\n",
    "print(\"\\nTracking URI configurado:\", mlflow.get_tracking_uri())\n"
   ]
  },
  {
   "cell_type": "markdown",
   "id": "8780c02d",
   "metadata": {},
   "source": [
    "## Experimento Baseline com MLflow e Monitoramento de Progresso\n",
    "\n",
    "Nesta etapa será rodado o primeiro experimento baseline usando o MLflow para rastrear parâmetros, métricas e artefatos. Para acompanhar operações potencialmente demoradas, como o ajuste do modelo (`fit`) e a geração de métricas, será utilizado o `tqdm` para monitorar loops de forma explícita. Isso garante visibilidade do progresso em tempo real, além de manter a rastreabilidade completa do pipeline.\n"
   ]
  },
  {
   "cell_type": "code",
   "execution_count": 18,
   "id": "387875f4",
   "metadata": {},
   "outputs": [
    {
     "name": "stdout",
     "output_type": "stream",
     "text": [
      "Tracking URI: http://mlflow:5000\n",
      "MLFLOW_S3_ENDPOINT_URL: http://minio:9000\n",
      "\n",
      "Treinando modelo com barra de progresso:\n"
     ]
    },
    {
     "name": "stderr",
     "output_type": "stream",
     "text": [
      "Fitting model: 100%|██████████| 1/1 [00:07<00:00,  7.10s/it]\n"
     ]
    },
    {
     "name": "stdout",
     "output_type": "stream",
     "text": [
      "\n",
      "Accuracy: 0.2209\n",
      "F1 Score: 0.3618\n",
      "\n",
      "Run ID: c5c5e9a7ee704c50b9575962b3bf6722\n",
      "Acesse: http://127.0.0.1:5000/#/experiments/1/runs/c5c5e9a7ee704c50b9575962b3bf6722\n",
      "🏃 View run Baseline_DecisionTree at: http://127.0.0.1:5000/#/experiments/1/runs/c5c5e9a7ee704c50b9575962b3bf6722\n",
      "🧪 View experiment at: http://127.0.0.1:5000/#/experiments/1\n",
      "🏃 View run Baseline_DecisionTree at: http://mlflow:5000/#/experiments/1/runs/c5c5e9a7ee704c50b9575962b3bf6722\n",
      "🧪 View experiment at: http://mlflow:5000/#/experiments/1\n"
     ]
    }
   ],
   "source": [
    "\"\"\"\n",
    "Executa:\n",
    "1) Tracking URI coerente para rede Docker.\n",
    "2) Exporta credenciais MinIO e endpoint fixos.\n",
    "3) Silencia logs redundantes do MLflow.\n",
    "4) Treino com barra de progresso (tqdm).\n",
    "5) Logging de hiperparâmetros, métricas e artefato.\n",
    "6) Prints finais APENAS com links 127.0.0.1.\n",
    "\"\"\"\n",
    "\n",
    "import os\n",
    "import logging\n",
    "import mlflow\n",
    "import mlflow.sklearn\n",
    "from sklearn.tree import DecisionTreeClassifier\n",
    "from sklearn.metrics import accuracy_score, f1_score\n",
    "from tqdm import tqdm\n",
    "\n",
    "# ✅ Silencia logs redundantes do MLflow\n",
    "logging.getLogger(\"mlflow\").setLevel(logging.ERROR)\n",
    "\n",
    "# 1️⃣ Tracking URI interno\n",
    "mlflow.set_tracking_uri(\"http://mlflow:5000\")\n",
    "\n",
    "# 2️⃣ Credenciais e endpoint MinIO explícitos\n",
    "os.environ['AWS_ACCESS_KEY_ID'] = 'wrm'\n",
    "os.environ['AWS_SECRET_ACCESS_KEY'] = 'senha_segura'\n",
    "os.environ['MLFLOW_S3_ENDPOINT_URL'] = 'http://minio:9000'\n",
    "\n",
    "print(\"Tracking URI:\", mlflow.get_tracking_uri())\n",
    "print(\"MLFLOW_S3_ENDPOINT_URL:\", os.environ['MLFLOW_S3_ENDPOINT_URL'])\n",
    "\n",
    "# 3️⃣ Cria/recupera experimento\n",
    "experiment_name = \"QuantumFinance_CreditScore\"\n",
    "mlflow.set_experiment(experiment_name)\n",
    "\n",
    "with mlflow.start_run(run_name=\"Baseline_DecisionTree\") as run:\n",
    "    params = {\"max_depth\": 5, \"random_state\": 42}\n",
    "    mlflow.log_params(params)\n",
    "\n",
    "    model = DecisionTreeClassifier(**params)\n",
    "\n",
    "    print(\"\\nTreinando modelo com barra de progresso:\")\n",
    "    for _ in tqdm(range(1), desc=\"Fitting model\"):\n",
    "        model.fit(X_train, y_train)\n",
    "\n",
    "    y_pred = model.predict(X_test)\n",
    "    acc = accuracy_score(y_test, y_pred)\n",
    "    f1 = f1_score(y_test, y_pred, average='weighted')\n",
    "\n",
    "    print(f\"\\nAccuracy: {acc:.4f}\")\n",
    "    print(f\"F1 Score: {f1:.4f}\")\n",
    "\n",
    "    mlflow.log_metric(\"accuracy\", acc)\n",
    "    mlflow.log_metric(\"f1_score\", f1)\n",
    "\n",
    "    mlflow.sklearn.log_model(model, \"model\")\n",
    "\n",
    "    # ✅ Prints finais coerentes — SOMENTE com 127.0.0.1\n",
    "    print(f\"\\nRun ID: {run.info.run_id}\")\n",
    "    print(f\"Acesse: http://127.0.0.1:5000/#/experiments/{run.info.experiment_id}/runs/{run.info.run_id}\")\n",
    "    print(f\"🏃 View run Baseline_DecisionTree at: http://127.0.0.1:5000/#/experiments/{run.info.experiment_id}/runs/{run.info.run_id}\")\n",
    "    print(f\"🧪 View experiment at: http://127.0.0.1:5000/#/experiments/{run.info.experiment_id}\")\n"
   ]
  }
 ],
 "metadata": {
  "kernelspec": {
   "display_name": "Python 3",
   "language": "python",
   "name": "python3"
  },
  "language_info": {
   "codemirror_mode": {
    "name": "ipython",
    "version": 3
   },
   "file_extension": ".py",
   "mimetype": "text/x-python",
   "name": "python",
   "nbconvert_exporter": "python",
   "pygments_lexer": "ipython3",
   "version": "3.10.18"
  }
 },
 "nbformat": 4,
 "nbformat_minor": 5
}

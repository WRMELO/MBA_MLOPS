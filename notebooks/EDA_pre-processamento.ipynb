{
 "cells": [
  {
   "cell_type": "markdown",
   "id": "d2206dd2",
   "metadata": {},
   "source": [
    "## Fase 5 — EDA e Pré-processamento\n",
    "\n",
    "Nesta fase damos início à **análise exploratória dos dados (EDA)**. O objetivo é garantir que o conjunto de dados brutos versionado esteja coerente, compreendendo estrutura, tipos de variáveis, dados faltantes e distribuição.  \n",
    "Toda inspeção será feita **dentro do DevContainer**, garantindo rastreabilidade e reprodutibilidade total, alinhada ao versionamento DVC já configurado.\n"
   ]
  },
  {
   "cell_type": "code",
   "execution_count": 2,
   "id": "32d6cfcf",
   "metadata": {},
   "outputs": [
    {
     "name": "stdout",
     "output_type": "stream",
     "text": [
      "Diretório atual: /workspace\n",
      "Conteúdo real de data/raw/:\n",
      "['.gitkeep', 'dummy.txt', 'dummy.txt.dvc', '.gitignore']\n"
     ]
    }
   ],
   "source": [
    "# ETAPA: LISTAR CONTEÚDO REAL DA PASTA data/raw/\n",
    "\n",
    "import os\n",
    "\n",
    "print(\"Diretório atual:\", os.getcwd())\n",
    "print(\"Conteúdo real de data/raw/:\")\n",
    "print(os.listdir(\"data/raw\"))\n"
   ]
  }
 ],
 "metadata": {
  "kernelspec": {
   "display_name": "Python 3",
   "language": "python",
   "name": "python3"
  },
  "language_info": {
   "codemirror_mode": {
    "name": "ipython",
    "version": 3
   },
   "file_extension": ".py",
   "mimetype": "text/x-python",
   "name": "python",
   "nbconvert_exporter": "python",
   "pygments_lexer": "ipython3",
   "version": "3.10.18"
  }
 },
 "nbformat": 4,
 "nbformat_minor": 5
}

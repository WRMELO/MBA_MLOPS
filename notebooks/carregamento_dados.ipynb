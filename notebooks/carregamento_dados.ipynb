{
 "cells": [
  {
   "cell_type": "markdown",
   "id": "d86e75d9",
   "metadata": {},
   "source": [
    "## Fase 3.1 — Ingestão de Dados Reais (KaggleHub)\n",
    "\n",
    "Nesta etapa damos sequência à **Fase 3.1** do plano de atividades, que corresponde à primeira ação prática com dados reais, agora utilizando o **KaggleHub** para baixar o dataset diretamente do repositório oficial do Kaggle.  \n",
    "Essa abordagem garante que o arquivo seja obtido na versão mais recente, com rastreabilidade e compatibilidade para versionamento com DVC. O processo será executado **dentro do container**, evitando divergências entre ambiente local e remoto.\n",
    "\n",
    "Após o download, o caminho de saída será exibido para validação, permitindo o rastreamento do arquivo bruto e preparação para push no backend MinIO/DVC.\n"
   ]
  },
  {
   "cell_type": "code",
   "execution_count": 2,
   "id": "74291cd4",
   "metadata": {},
   "outputs": [
    {
     "name": "stdout",
     "output_type": "stream",
     "text": [
      "Collecting kagglehub\n",
      "  Downloading kagglehub-0.3.12-py3-none-any.whl (67 kB)\n",
      "\u001b[2K     \u001b[90m━━━━━━━━━━━━━━━━━━━━━━━━━━━━━━━━━━━━━━━━\u001b[0m \u001b[32m68.0/68.0 kB\u001b[0m \u001b[31m5.9 MB/s\u001b[0m eta \u001b[36m0:00:00\u001b[0m\n",
      "\u001b[?25hRequirement already satisfied: tqdm in /usr/local/lib/python3.10/site-packages (from kagglehub) (4.67.1)\n",
      "Requirement already satisfied: requests in /usr/local/lib/python3.10/site-packages (from kagglehub) (2.32.4)\n",
      "Requirement already satisfied: pyyaml in /usr/local/lib/python3.10/site-packages (from kagglehub) (6.0.2)\n",
      "Requirement already satisfied: packaging in /usr/local/lib/python3.10/site-packages (from kagglehub) (25.0)\n",
      "Requirement already satisfied: charset_normalizer<4,>=2 in /usr/local/lib/python3.10/site-packages (from requests->kagglehub) (3.4.2)\n",
      "Requirement already satisfied: idna<4,>=2.5 in /usr/local/lib/python3.10/site-packages (from requests->kagglehub) (3.10)\n",
      "Requirement already satisfied: urllib3<3,>=1.21.1 in /usr/local/lib/python3.10/site-packages (from requests->kagglehub) (2.5.0)\n",
      "Requirement already satisfied: certifi>=2017.4.17 in /usr/local/lib/python3.10/site-packages (from requests->kagglehub) (2025.7.9)\n",
      "Installing collected packages: kagglehub\n",
      "Successfully installed kagglehub-0.3.12\n",
      "\u001b[33mWARNING: Running pip as the 'root' user can result in broken permissions and conflicting behaviour with the system package manager. It is recommended to use a virtual environment instead: https://pip.pypa.io/warnings/venv\u001b[0m\u001b[33m\n",
      "\u001b[0m\n",
      "\u001b[1m[\u001b[0m\u001b[34;49mnotice\u001b[0m\u001b[1;39;49m]\u001b[0m\u001b[39;49m A new release of pip is available: \u001b[0m\u001b[31;49m23.0.1\u001b[0m\u001b[39;49m -> \u001b[0m\u001b[32;49m25.1.1\u001b[0m\n",
      "\u001b[1m[\u001b[0m\u001b[34;49mnotice\u001b[0m\u001b[1;39;49m]\u001b[0m\u001b[39;49m To update, run: \u001b[0m\u001b[32;49mpip install --upgrade pip\u001b[0m\n",
      "Note: you may need to restart the kernel to use updated packages.\n",
      "Pacote kagglehub importado com sucesso.\n"
     ]
    },
    {
     "name": "stderr",
     "output_type": "stream",
     "text": [
      "/usr/local/lib/python3.10/site-packages/tqdm/auto.py:21: TqdmWarning: IProgress not found. Please update jupyter and ipywidgets. See https://ipywidgets.readthedocs.io/en/stable/user_install.html\n",
      "  from .autonotebook import tqdm as notebook_tqdm\n"
     ]
    },
    {
     "name": "stdout",
     "output_type": "stream",
     "text": [
      "Downloading from https://www.kaggle.com/api/v1/datasets/download/parisrohan/credit-score-classification?dataset_version_number=1...\n"
     ]
    },
    {
     "name": "stderr",
     "output_type": "stream",
     "text": [
      "100%|██████████| 9.51M/9.51M [00:01<00:00, 7.39MB/s]"
     ]
    },
    {
     "name": "stdout",
     "output_type": "stream",
     "text": [
      "Extracting files...\n",
      "\n",
      " Download concluído.\n",
      "📂 Caminho local do dataset: /root/.cache/kagglehub/datasets/parisrohan/credit-score-classification/versions/1\n"
     ]
    },
    {
     "name": "stderr",
     "output_type": "stream",
     "text": [
      "\n"
     ]
    }
   ],
   "source": [
    "# ETAPA: DOWNLOAD DOS DADOS REAIS VIA KAGGLEHUB\n",
    "\n",
    "# Instala o kagglehub dentro do ambiente do notebook\n",
    "%pip install kagglehub\n",
    "\n",
    "# Verifica se o pacote foi instalado corretamente\n",
    "import kagglehub\n",
    "print(\"Pacote kagglehub importado com sucesso.\")\n",
    "\n",
    "# Importa biblioteca kagglehub\n",
    "import kagglehub\n",
    "\n",
    "# Baixa a versão mais recente do dataset\n",
    "path = kagglehub.dataset_download(\"parisrohan/credit-score-classification\")\n",
    "\n",
    "# Exibe caminho de saída para conferência\n",
    "print(\"\\n Download concluído.\")\n",
    "print(\"📂 Caminho local do dataset:\", path)\n"
   ]
  },
  {
   "cell_type": "code",
   "execution_count": 5,
   "id": "ddb2784b",
   "metadata": {},
   "outputs": [
    {
     "name": "stdout",
     "output_type": "stream",
     "text": [
      "Arquivos movidos para: data/raw\n",
      "Conteúdo atual em data/raw/: ['test.csv', 'train.csv']\n"
     ]
    }
   ],
   "source": [
    "# ETAPA: MOVER ARQUIVOS USANDO O PATH REAL RETORNADO PELO kagglehub\n",
    "\n",
    "import os\n",
    "import shutil\n",
    "\n",
    "# Use o valor exato retornado pelo kagglehub.dataset_download()\n",
    "# Se a variável 'path' não existir mais, substitua abaixo pelo caminho real exibido no output\n",
    "source_dir = path  # exemplo: \"/root/.cache/kagglehub/datasets/parisrohan/credit-score-classification/version_123456\"\n",
    "\n",
    "destination_dir = \"data/raw\"\n",
    "os.makedirs(destination_dir, exist_ok=True)\n",
    "\n",
    "# Copia todos os arquivos do diretório real\n",
    "for filename in os.listdir(source_dir):\n",
    "    source_file = os.path.join(source_dir, filename)\n",
    "    destination_file = os.path.join(destination_dir, filename)\n",
    "    shutil.copy2(source_file, destination_file)\n",
    "\n",
    "print(\"Arquivos movidos para:\", destination_dir)\n",
    "print(\"Conteúdo atual em data/raw/:\", os.listdir(destination_dir))\n"
   ]
  },
  {
   "cell_type": "code",
   "execution_count": 6,
   "id": "799bdc9e",
   "metadata": {},
   "outputs": [
    {
     "name": "stdout",
     "output_type": "stream",
     "text": [
      " \u001b[?25l\u001b[32m⠋\u001b[0m Checking graph\n",
      "Adding...                                                                       \n",
      "!\u001b[A\n",
      "Collecting files and computing hashes in data/raw     |0.00 [00:00,     ?file/s]\u001b[A\n",
      "                                                                                \u001b[A\n",
      "!\u001b[A\n",
      "  0% Checking cache in '/workspace/.dvc/cache/files/md5'| |0/? [00:00<?,    ?fil\u001b[A\n",
      "                                                                                \u001b[A\n",
      "!\u001b[A\n",
      "  0%|          |Adding data/raw to cache              0/2 [00:00<?,     ?file/s]\u001b[A\n",
      "                                                                                \u001b[A\n",
      "!\u001b[A\n",
      "Checking out /workspace/notebooks/data/raw            |0.00 [00:00,    ?files/s]\u001b[A\n",
      "100% Adding...|████████████████████████████████████████|1/1 [00:00, 14.93file/s]\u001b[A\n",
      "\u001b[0mtotal 45M\n",
      "-rw-r--r-- 1 root root 15M Jul 14 09:17 test.csv\n",
      "-rw-r--r-- 1 root root 30M Jul 14 09:17 train.csv\n",
      "outs:\n",
      "- md5: 5dc4156c8cba026c76905a26de89fdb9.dir\n",
      "  size: 46502530\n",
      "  nfiles: 2\n",
      "  hash: md5\n",
      "  path: raw\n"
     ]
    }
   ],
   "source": [
    "# ETAPA: VERSIONAR ARQUIVOS COM DVC ADD\n",
    "\n",
    "# Comando shell dentro do notebook Jupyter\n",
    "# Adiciona todos os arquivos da pasta data/raw/ ao controle DVC\n",
    "!dvc add data/raw\n",
    "\n",
    "# Lista o conteúdo para conferir arquivos .dvc criados\n",
    "!ls -lh data/raw\n",
    "!cat data/raw.dvc\n"
   ]
  },
  {
   "cell_type": "code",
   "execution_count": 7,
   "id": "49dde5ed",
   "metadata": {},
   "outputs": [
    {
     "name": "stdout",
     "output_type": "stream",
     "text": [
      "Collecting                                            |4.00 [00:00,  312entry/s]\n",
      "Pushing\n",
      "!\u001b[A\n",
      "  0% Querying remote cache|                          |0/1 [00:00<?,    ?files/s]\u001b[A\n",
      "                                                                                \u001b[A\n",
      "!\u001b[A\n",
      "  0% Checking cache in 'mba-mlops-bucket/files/md5'| |0/? [00:00<?,    ?files/s]\u001b[A\n",
      "                                                                                \u001b[A\n",
      "!\u001b[A\n",
      "  0% Checking cache in '/workspace/.dvc/cache/files/md5'| |0/? [00:00<?,    ?fil\u001b[A\n",
      "                                                                                \u001b[A\n",
      "!\u001b[A\n",
      "  0%|          |Pushing to s3                         0/3 [00:00<?,     ?file/s]\u001b[A\n",
      "\n",
      "!\u001b[A\u001b[A\n",
      "\n",
      "  0%|          |/workspace/.dvc/cache/files/md50.00/14.7M [00:00<?,        ?B/s]\u001b[A\u001b[A\n",
      "\n",
      "                                                                                \u001b[A\u001b[A\n",
      "\n",
      "!\u001b[A\u001b[A\n",
      "\n",
      "  0%|          |/workspace/.dvc/cache/files/md50.00/29.7M [00:00<?,        ?B/s]\u001b[A\u001b[A\n",
      "\n",
      "100%|██████████|/workspace/.dvc/cache/file29.7M/29.7M [00:00<00:00,     290MB/s]\u001b[A\u001b[A\n",
      "\n",
      "                                                                                \u001b[A\u001b[A\n",
      "100%|██████████|Pushing to s3                     2/2 [00:00<00:00, 11.14file/s]\u001b[A\n",
      "\n",
      "!\u001b[A\u001b[A\n",
      "\n",
      "  0%|          |/workspace/.dvc/cache/files/md5/50.00/137 [00:00<?,        ?B/s]\u001b[A\u001b[A\n",
      "\n",
      "                                                                                \u001b[A\u001b[A\n",
      "Pushing                                                                         \u001b[A\n",
      "3 files pushed\n",
      "Data and pipelines are up to date.                                              \n",
      "\u001b[0m"
     ]
    }
   ],
   "source": [
    "# ETAPA: ENVIAR ARQUIVOS VERSIONADOS PARA BACKEND REMOTO COM DVC PUSH\n",
    "\n",
    "# Executa push dos dados para o storage remoto configurado\n",
    "!dvc push\n",
    "\n",
    "# Verifica status para garantir que tudo foi enviado corretamente\n",
    "!dvc status\n"
   ]
  }
 ],
 "metadata": {
  "kernelspec": {
   "display_name": "Python 3",
   "language": "python",
   "name": "python3"
  },
  "language_info": {
   "codemirror_mode": {
    "name": "ipython",
    "version": 3
   },
   "file_extension": ".py",
   "mimetype": "text/x-python",
   "name": "python",
   "nbconvert_exporter": "python",
   "pygments_lexer": "ipython3",
   "version": "3.10.18"
  }
 },
 "nbformat": 4,
 "nbformat_minor": 5
}

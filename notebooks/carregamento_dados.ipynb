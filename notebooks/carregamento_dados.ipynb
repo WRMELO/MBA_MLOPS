{
 "cells": [
  {
   "cell_type": "markdown",
   "id": "d86e75d9",
   "metadata": {},
   "source": [
    "## Fase 3.1 — Ingestão de Dados Reais (KaggleHub)\n",
    "\n",
    "Nesta etapa damos sequência à **Fase 3.1** do plano de atividades, que corresponde à primeira ação prática com dados reais, agora utilizando o **KaggleHub** para baixar o dataset diretamente do repositório oficial do Kaggle.  \n",
    "Essa abordagem garante que o arquivo seja obtido na versão mais recente, com rastreabilidade e compatibilidade para versionamento com DVC. O processo será executado **dentro do container**, evitando divergências entre ambiente local e remoto.\n",
    "\n",
    "Após o download, o caminho de saída será exibido para validação, permitindo o rastreamento do arquivo bruto e preparação para push no backend MinIO/DVC.\n"
   ]
  },
  {
   "cell_type": "code",
   "execution_count": 13,
   "id": "fe41455d",
   "metadata": {},
   "outputs": [
    {
     "name": "stdout",
     "output_type": "stream",
     "text": [
      "Requirement already satisfied: kagglehub in /usr/local/lib/python3.10/site-packages (0.3.12)\n",
      "Requirement already satisfied: pyyaml in /usr/local/lib/python3.10/site-packages (from kagglehub) (6.0.2)\n",
      "Requirement already satisfied: requests in /usr/local/lib/python3.10/site-packages (from kagglehub) (2.32.4)\n",
      "Requirement already satisfied: tqdm in /usr/local/lib/python3.10/site-packages (from kagglehub) (4.67.1)\n",
      "Requirement already satisfied: packaging in /usr/local/lib/python3.10/site-packages (from kagglehub) (25.0)\n",
      "Requirement already satisfied: charset_normalizer<4,>=2 in /usr/local/lib/python3.10/site-packages (from requests->kagglehub) (3.4.2)\n",
      "Requirement already satisfied: certifi>=2017.4.17 in /usr/local/lib/python3.10/site-packages (from requests->kagglehub) (2025.7.9)\n",
      "Requirement already satisfied: idna<4,>=2.5 in /usr/local/lib/python3.10/site-packages (from requests->kagglehub) (3.10)\n",
      "Requirement already satisfied: urllib3<3,>=1.21.1 in /usr/local/lib/python3.10/site-packages (from requests->kagglehub) (2.5.0)\n",
      "\u001b[33mWARNING: Running pip as the 'root' user can result in broken permissions and conflicting behaviour with the system package manager. It is recommended to use a virtual environment instead: https://pip.pypa.io/warnings/venv\u001b[0m\u001b[33m\n",
      "\u001b[0m\n",
      "\u001b[1m[\u001b[0m\u001b[34;49mnotice\u001b[0m\u001b[1;39;49m]\u001b[0m\u001b[39;49m A new release of pip is available: \u001b[0m\u001b[31;49m23.0.1\u001b[0m\u001b[39;49m -> \u001b[0m\u001b[32;49m25.1.1\u001b[0m\n",
      "\u001b[1m[\u001b[0m\u001b[34;49mnotice\u001b[0m\u001b[1;39;49m]\u001b[0m\u001b[39;49m To update, run: \u001b[0m\u001b[32;49mpip install --upgrade pip\u001b[0m\n",
      "Note: you may need to restart the kernel to use updated packages.\n",
      "Pacote kagglehub importado com sucesso.\n",
      "\n",
      "Download concluído.\n",
      "Caminho local do dataset: /root/.cache/kagglehub/datasets/parisrohan/credit-score-classification/versions/1\n",
      "\n",
      "Conteúdo real do path baixado:\n",
      "['test.csv', 'train.csv']\n"
     ]
    }
   ],
   "source": [
    "# ETAPA: DOWNLOAD DOS DADOS REAIS VIA KAGGLEHUB\n",
    "\n",
    "# Instala o kagglehub dentro do ambiente do notebook (caso ainda não esteja instalado)\n",
    "%pip install kagglehub\n",
    "\n",
    "# Importa a biblioteca\n",
    "import kagglehub\n",
    "\n",
    "print(\"Pacote kagglehub importado com sucesso.\")\n",
    "\n",
    "# Baixa a versão mais recente do dataset do Kaggle\n",
    "path = kagglehub.dataset_download(\"parisrohan/credit-score-classification\")\n",
    "\n",
    "print(\"\\nDownload concluído.\")\n",
    "print(\"Caminho local do dataset:\", path)\n",
    "\n",
    "# Lista o conteúdo real do diretório baixado para validar o nome exato\n",
    "import os\n",
    "\n",
    "print(\"\\nConteúdo real do path baixado:\")\n",
    "print(os.listdir(path))\n"
   ]
  },
  {
   "cell_type": "code",
   "execution_count": 15,
   "id": "2ddee91b",
   "metadata": {},
   "outputs": [
    {
     "name": "stdout",
     "output_type": "stream",
     "text": [
      "Destino absoluto: /workspace/data/raw\n",
      "Conteúdo em source_dir: ['test.csv', 'train.csv']\n",
      "Copiado: test.csv\n",
      "Copiado: train.csv\n",
      "Conteúdo atual em data/raw/: ['test.csv', 'train.csv']\n"
     ]
    }
   ],
   "source": [
    "# ETAPA: MOVER ARQUIVOS USANDO O PATH REAL, FORÇANDO DESTINO NO RAIZ DO REPOSITÓRIO\n",
    "\n",
    "import os\n",
    "import shutil\n",
    "from pathlib import Path\n",
    "\n",
    "# Caminho de origem\n",
    "source_dir = path  # valor real do kagglehub\n",
    "\n",
    "# Força caminho para /workspace/data/raw\n",
    "repo_root = Path.cwd().parent  # se notebook está em /notebooks/, sobe um nível\n",
    "destination_dir = repo_root / \"data\" / \"raw\"\n",
    "destination_dir.mkdir(parents=True, exist_ok=True)\n",
    "\n",
    "print(\"Destino absoluto:\", destination_dir)\n",
    "\n",
    "# Lista source_dir antes\n",
    "print(\"Conteúdo em source_dir:\", os.listdir(source_dir))\n",
    "\n",
    "# Copia tudo\n",
    "for filename in os.listdir(source_dir):\n",
    "    source_file = os.path.join(source_dir, filename)\n",
    "    destination_file = destination_dir / filename\n",
    "    shutil.copy2(source_file, destination_file)\n",
    "    print(f\"Copiado: {filename}\")\n",
    "\n",
    "print(\"Conteúdo atual em data/raw/:\", os.listdir(destination_dir))\n"
   ]
  },
  {
   "cell_type": "code",
   "execution_count": 21,
   "id": "1a8b0568",
   "metadata": {},
   "outputs": [
    {
     "name": "stdout",
     "output_type": "stream",
     "text": [
      "CWD Kernel: /workspace/notebooks\n",
      "/workspace/notebooks\n",
      "total 45M\n",
      "-rw-r--r-- 1 root root 15M Jul 14 09:17 test.csv\n",
      "-rw-r--r-- 1 root root 30M Jul 14 09:17 train.csv\n",
      " \u001b[?25l\u001b[32m⠋\u001b[0m Checking graph\n",
      "Adding...                                                                       \n",
      "!\u001b[A\n",
      "Collecting files and computing hashes in ../data/raw  |0.00 [00:00,     ?file/s]\u001b[A\n",
      "                                                                                \u001b[A\n",
      "!\u001b[A\n",
      "  0% Checking cache in '/workspace/.dvc/cache/files/md5'| |0/? [00:00<?,    ?fil\u001b[A\n",
      "                                                                                \u001b[A\n",
      "!\u001b[A\n",
      "Checking out /workspace/data/raw                      |0.00 [00:00,    ?files/s]\u001b[A\n",
      "100% Adding...|████████████████████████████████████████|1/1 [00:00, 52.46file/s]\u001b[A\n",
      "\u001b[0mtotal 45M\n",
      "-rw-r--r-- 1 root root 15M Jul 14 09:17 test.csv\n",
      "-rw-r--r-- 1 root root 30M Jul 14 09:17 train.csv\n",
      "outs:\n",
      "- md5: 5dc4156c8cba026c76905a26de89fdb9.dir\n",
      "  size: 46502530\n",
      "  nfiles: 2\n",
      "  hash: md5\n",
      "  path: raw\n"
     ]
    }
   ],
   "source": [
    "# ETAPA: VERSIONAR ARQUIVOS COM DVC ADD (CORRIGIDO PARA CWD /workspace/notebooks)\n",
    "\n",
    "# Verifica onde está o kernel e o conteúdo real\n",
    "import os\n",
    "print(\"CWD Kernel:\", os.getcwd())\n",
    "!pwd\n",
    "!ls -lh ../data/raw\n",
    "\n",
    "# Executa o dvc add no caminho real (um nível acima)\n",
    "!dvc add ../data/raw\n",
    "\n",
    "# Lista o conteúdo para conferir arquivos .dvc criados\n",
    "!ls -lh ../data/raw\n",
    "!cat ../data/raw.dvc\n"
   ]
  },
  {
   "cell_type": "code",
   "execution_count": 22,
   "id": "fda4fc4c",
   "metadata": {},
   "outputs": [
    {
     "name": "stdout",
     "output_type": "stream",
     "text": [
      "Collecting                                            |3.00 [00:00,  258entry/s]\n",
      "Pushing\n",
      "!\u001b[A\n",
      "  0% Querying remote cache|                          |0/1 [00:00<?,    ?files/s]\u001b[A\n",
      "100% Querying remote cache|█████████████████████|1/1 [00:00<00:00,  4.11files/s]\u001b[A\n",
      "                                                                                \u001b[A\n",
      "!\u001b[A\n",
      "  0% Querying remote cache|                          |0/0 [00:00<?,    ?files/s]\u001b[A\n",
      "Pushing                                                                         \u001b[A\n",
      "Everything is up to date.\n",
      "Data and pipelines are up to date.                                              \n",
      "\u001b[0m"
     ]
    }
   ],
   "source": [
    "# ETAPA: ENVIAR ARQUIVOS VERSIONADOS PARA O BACKEND REMOTO COM DVC PUSH\n",
    "\n",
    "# Executa push dos dados versionados para o remote configurado no DVC\n",
    "!dvc push\n",
    "\n",
    "# Verifica status para garantir que tudo foi enviado corretamente\n",
    "!dvc status\n"
   ]
  }
 ],
 "metadata": {
  "kernelspec": {
   "display_name": "Python 3",
   "language": "python",
   "name": "python3"
  },
  "language_info": {
   "codemirror_mode": {
    "name": "ipython",
    "version": 3
   },
   "file_extension": ".py",
   "mimetype": "text/x-python",
   "name": "python",
   "nbconvert_exporter": "python",
   "pygments_lexer": "ipython3",
   "version": "3.10.18"
  }
 },
 "nbformat": 4,
 "nbformat_minor": 5
}

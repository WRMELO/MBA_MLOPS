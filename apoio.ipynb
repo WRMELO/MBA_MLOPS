{
 "cells": [
  {
   "cell_type": "code",
   "execution_count": 1,
   "id": "e81c7f0a",
   "metadata": {},
   "outputs": [
    {
     "name": "stdout",
     "output_type": "stream",
     "text": [
      "✅ Movido: cf_app.py → /workspace/src/ultrapassados/cf_app.py\n",
      "✅ Movido: cf_service.py → /workspace/src/ultrapassados/cf_service.py\n",
      "✅ Movido: cf_transform.py → /workspace/src/ultrapassados/cf_transform.py\n",
      "✅ Movido: streamlit_app_V1.py → /workspace/src/ultrapassados/streamlit_app_V1.py\n",
      "✅ Movido: streamlit_app.py → /workspace/src/ultrapassados/streamlit_app.py\n",
      "✅ Movido: run_app.sh → /workspace/src/ultrapassados/run_app.sh\n",
      "✅ Movido: api.py → /workspace/src/ultrapassados/api.py\n",
      "✅ Movido: api_log.txt → /workspace/src/ultrapassados/api_log.txt\n",
      "✅ Movido: cf_run_api.sh → /workspace/src/ultrapassados/cf_run_api.sh\n",
      "✅ Movido: cf_run_ui.sh → /workspace/src/ultrapassados/cf_run_ui.sh\n"
     ]
    }
   ],
   "source": [
    "import os\n",
    "import shutil\n",
    "from pathlib import Path\n",
    "\n",
    "# Diretórios\n",
    "origem = Path(\"/workspace\")\n",
    "destino = origem / \"src\" / \"ultrapassados\"\n",
    "destino.mkdir(parents=True, exist_ok=True)\n",
    "\n",
    "# Lista de arquivos obsoletos a mover\n",
    "arquivos_ultrapassados = [\n",
    "    \"cf_app.py\",\n",
    "    \"cf_service.py\",\n",
    "    \"cf_transform.py\",\n",
    "    \"streamlit_app_V1.py\",\n",
    "    \"streamlit_app.py\",\n",
    "    \"run_app.sh\",\n",
    "    \"api.py\",\n",
    "    \"api_log.txt\",\n",
    "    \"cf_run_api.sh\",\n",
    "    \"cf_run_ui.sh\"\n",
    "]\n",
    "\n",
    "# Mover arquivos\n",
    "for nome_arquivo in arquivos_ultrapassados:\n",
    "    caminho_origem = origem / nome_arquivo\n",
    "    if caminho_origem.exists():\n",
    "        destino_final = destino / nome_arquivo\n",
    "        shutil.move(str(caminho_origem), destino_final)\n",
    "        print(f\"✅ Movido: {nome_arquivo} → {destino_final}\")\n",
    "    else:\n",
    "        print(f\"⚠️ Não encontrado: {nome_arquivo}\")\n"
   ]
  },
  {
   "cell_type": "code",
   "execution_count": 2,
   "id": "05616012",
   "metadata": {},
   "outputs": [
    {
     "name": "stdout",
     "output_type": "stream",
     "text": [
      "✅ Movido para ultrapassados: converter.py\n",
      "🔒 Mantido: test_api.py\n",
      "🔒 Mantido: mapping.py\n"
     ]
    }
   ],
   "source": [
    "import os\n",
    "import shutil\n",
    "from pathlib import Path\n",
    "\n",
    "# Diretórios base\n",
    "base = Path(\"/workspace\")\n",
    "destino = base / \"src\" / \"ultrapassados\"\n",
    "destino.mkdir(parents=True, exist_ok=True)\n",
    "\n",
    "# Lista de scripts que devem permanecer\n",
    "ativos_e_apoio = {\n",
    "    \"transformador_input.py\",\n",
    "    \"interface_streamlit_v1.py\",\n",
    "    \"api_preditor_v1.py\",\n",
    "    \"mapping.py\",\n",
    "    \"test_api.py\"\n",
    "}\n",
    "\n",
    "# Varre todos .py na raiz do workspace\n",
    "for arquivo in base.glob(\"*.py\"):\n",
    "    if arquivo.name not in ativos_e_apoio:\n",
    "        shutil.move(str(arquivo), destino / arquivo.name)\n",
    "        print(f\"✅ Movido para ultrapassados: {arquivo.name}\")\n",
    "    else:\n",
    "        print(f\"🔒 Mantido: {arquivo.name}\")\n"
   ]
  },
  {
   "cell_type": "code",
   "execution_count": 3,
   "id": "21d27d90",
   "metadata": {},
   "outputs": [
    {
     "name": "stdout",
     "output_type": "stream",
     "text": [
      "✅ Diretório criado: /workspace/src/ativos\n",
      "📄 Placeholder criado: /workspace/src/ativos/__init__.py\n"
     ]
    }
   ],
   "source": [
    "from pathlib import Path\n",
    "\n",
    "# Caminho do novo diretório\n",
    "ativos_dir = Path(\"/workspace/src/ativos\")\n",
    "ativos_dir.mkdir(parents=True, exist_ok=True)\n",
    "\n",
    "# Criação do placeholder\n",
    "init_file = ativos_dir / \"__init__.py\"\n",
    "init_file.touch()\n",
    "\n",
    "print(f\"✅ Diretório criado: {ativos_dir}\")\n",
    "print(f\"📄 Placeholder criado: {init_file}\")\n"
   ]
  },
  {
   "cell_type": "code",
   "execution_count": 4,
   "id": "2529d2a5",
   "metadata": {},
   "outputs": [
    {
     "name": "stdout",
     "output_type": "stream",
     "text": [
      "✅ Criado: transformador_input.py\n",
      "✅ Criado: interface_streamlit_v1.py\n",
      "✅ Criado: api_preditor_v1.py\n"
     ]
    }
   ],
   "source": [
    "from pathlib import Path\n",
    "\n",
    "# Diretórios\n",
    "base_src = Path(\"/workspace/src\")\n",
    "ativos_dir = base_src / \"ativos\"\n",
    "\n",
    "# Criação dos diretórios\n",
    "base_src.mkdir(parents=True, exist_ok=True)\n",
    "ativos_dir.mkdir(parents=True, exist_ok=True)\n",
    "\n",
    "# Criação do __init__.py\n",
    "(ativos_dir / \"__init__.py\").touch()\n",
    "\n",
    "# Arquivos oficiais da nova stack\n",
    "arquivos = {\n",
    "    \"transformador_input.py\": \"# transformador_input.py\\n# Transforma 21 campos humanos em 92 features\",\n",
    "    \"interface_streamlit_v1.py\": \"# interface_streamlit_v1.py\\n# Formulário Streamlit com campos para humanos\",\n",
    "    \"api_preditor_v1.py\": \"# api_preditor_v1.py\\n# API FastAPI conectada ao modelo v1-final (MLflow)\"\n",
    "}\n",
    "\n",
    "# Criar os arquivos com cabeçalho\n",
    "for nome, conteudo in arquivos.items():\n",
    "    caminho = ativos_dir / nome\n",
    "    if not caminho.exists():\n",
    "        caminho.write_text(conteudo, encoding=\"utf-8\")\n",
    "        print(f\"✅ Criado: {caminho.name}\")\n",
    "    else:\n",
    "        print(f\"⚠️ Já existia: {caminho.name}\")\n"
   ]
  }
 ],
 "metadata": {
  "kernelspec": {
   "display_name": "Python 3",
   "language": "python",
   "name": "python3"
  },
  "language_info": {
   "codemirror_mode": {
    "name": "ipython",
    "version": 3
   },
   "file_extension": ".py",
   "mimetype": "text/x-python",
   "name": "python",
   "nbconvert_exporter": "python",
   "pygments_lexer": "ipython3",
   "version": "3.10.18"
  }
 },
 "nbformat": 4,
 "nbformat_minor": 5
}
